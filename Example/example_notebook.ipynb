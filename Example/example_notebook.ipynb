{
 "cells": [
  {
   "cell_type": "markdown",
   "id": "83e1d1e0",
   "metadata": {},
   "source": [
    "First activate the conda  environment from the .yml in slack ($ conda activate metabomix)"
   ]
  },
  {
   "cell_type": "code",
   "execution_count": 2,
   "id": "518f694b",
   "metadata": {},
   "outputs": [],
   "source": [
    "from metabomix import MetaboMix"
   ]
  },
  {
   "cell_type": "markdown",
   "id": "9be7182a",
   "metadata": {},
   "source": [
    "# Recipe\n",
    "A recpe is a json file that contains the settings for a specific run of the workflow, allowing for easy comparison/changing of paramaters and datasets and such.  \n",
    "\n",
    "**Paths**: to an output folder, a settings file (\"recipe\", run-specific, json-format) and a persistent config file. In this case we also add a path to the mgf that we will use as an input for this example. \n",
    "\n",
    "**run_tools**: to select all tools that you want to run for a Mix (a run of the workflow).\n",
    "    Here: only matchms is selected\n",
    "\n",
    "**integrate_tools**: to select all results that you want to integrate for a Mix.\n",
    "    Here: only matchms is selected\n",
    "\n",
    "**Tool specific settings**: settings for a specific tools can be added below to the recipe as well"
   ]
  },
  {
   "cell_type": "code",
   "execution_count": 3,
   "id": "2bf29084",
   "metadata": {},
   "outputs": [],
   "source": [
    "settings_path: str = \"recipe.json\""
   ]
  },
  {
   "cell_type": "code",
   "execution_count": 48,
   "id": "f7e096a2",
   "metadata": {},
   "outputs": [
    {
     "name": "stdout",
     "output_type": "stream",
     "text": [
      "{\"paths\":{\n",
      "    \"base_output_folder\":\"./Results\",\n",
      "    \"internal_settings\":\"config.json\",\n",
      "    \"name\":\"Example_run\",\n",
      "    \"input_mgf\":\"pesticides.mgf\"\n",
      "    },\n",
      "\"run_tools\":{\n",
      "    \"sirius\": \"False\",\n",
      "    \"toxtree\": \"False\",\n",
      "    \"classyfire\": \"False\",\n",
      "    \"ms2lda\": \"False\",\n",
      "    \"mzmine\": \"False\",\n",
      "    \"matchms\": \"True\"\n",
      "    },\n",
      "\"integrate_tools\":{\n",
      "    \"sirius\": \"False\",\n",
      "    \"toxtree\": \"False\",\n",
      "    \"classyfire\": \"False\",\n",
      "    \"ms2lda\": \"False\",\n",
      "    \"mzmine\": \"False\",\n",
      "    \"matchms\": \"True\",\n",
      "    \"plastchemdb\": \"False\"\n",
      "\n"
     ]
    }
   ],
   "source": [
    "with open(\"recipe.json\") as file:\n",
    "    # print(file.read()[0:498])\n",
    "    print(file.read()[0:507])"
   ]
  },
  {
   "cell_type": "markdown",
   "id": "50b0d514",
   "metadata": {},
   "source": [
    "# Create Mix \n",
    "A mix is a python object that contains all relevant information for a run of the workflow. The selected tools can be run by mix.run_all()"
   ]
  },
  {
   "cell_type": "code",
   "execution_count": 45,
   "id": "4c534b90",
   "metadata": {},
   "outputs": [
    {
     "name": "stdout",
     "output_type": "stream",
     "text": [
      "running matchms\n",
      "Sucesfully ran and integrated all tools\n"
     ]
    }
   ],
   "source": [
    "example_mix = MetaboMix(settings_path)\n",
    "example_mix.run_all()"
   ]
  },
  {
   "cell_type": "markdown",
   "id": "d31a79f4",
   "metadata": {},
   "source": [
    "You can also use an instance of a mix to request information about that mix. Such as the name and output folder you gave it:"
   ]
  },
  {
   "cell_type": "code",
   "execution_count": 66,
   "id": "bf10727d",
   "metadata": {},
   "outputs": [
    {
     "name": "stdout",
     "output_type": "stream",
     "text": [
      "name: Example_run\n",
      "output folder: ./Results/Example_run\n"
     ]
    }
   ],
   "source": [
    "print(f\"name: {example_mix.name}\")\n",
    "print(f\"output folder: {example_mix.output_folder}\")\n",
    "\n"
   ]
  },
  {
   "cell_type": "markdown",
   "id": "6c9e9464",
   "metadata": {},
   "source": [
    "Or settings such as paths:"
   ]
  },
  {
   "cell_type": "code",
   "execution_count": null,
   "id": "5f9de788",
   "metadata": {},
   "outputs": [
    {
     "name": "stdout",
     "output_type": "stream",
     "text": [
      "paths: {'base_output_folder': './Results', 'internal_settings': 'config.json', 'name': 'Example_run', 'input_mgf': 'pesticides.mgf', 'base_network': './Results/Example_run/base_network.graphml'}\n"
     ]
    }
   ],
   "source": [
    "print(f\"paths: {example_mix.settings.paths}\")"
   ]
  },
  {
   "cell_type": "markdown",
   "id": "116d2111",
   "metadata": {},
   "source": [
    "Or the tools that you selected for running/integrating:"
   ]
  },
  {
   "cell_type": "code",
   "execution_count": 79,
   "id": "9e0ca0b5",
   "metadata": {},
   "outputs": [
    {
     "name": "stdout",
     "output_type": "stream",
     "text": [
      "to run:: ['matchms']\n",
      "to integrate: ['matchms']\n",
      "all possible tools: ['mzmine', 'ms2lda', 'sirius', 'toxtree', 'classyfire', 'matchms']\n"
     ]
    }
   ],
   "source": [
    "print(f\"to run:: {example_mix.settings.to_run}\")\n",
    "print(f\"to integrate: {example_mix.settings.to_integrate}\")\n",
    "\n",
    "print(f\"all possible tools: {example_mix.available_tools}\")"
   ]
  },
  {
   "cell_type": "markdown",
   "id": "375e78ef",
   "metadata": {},
   "source": [
    "# Results"
   ]
  },
  {
   "cell_type": "markdown",
   "id": "b64e7d06",
   "metadata": {},
   "source": [
    "For the simple mix that we just ran, we just selected matchms and provided pesticides.mgf as input. This resulted in a network in graphml format:"
   ]
  },
  {
   "cell_type": "code",
   "execution_count": 84,
   "id": "eedf025d",
   "metadata": {},
   "outputs": [
    {
     "name": "stdout",
     "output_type": "stream",
     "text": [
      "<?xml version='1.0' encoding='utf-8'?>\n",
      "<graphml xmlns=\"http://graphml.graphdrawing.org/xmlns\" xmlns:xsi=\"http://www.w3.org/2001/XMLSchema-instance\" xsi:schemaLocation=\"http://graphml.graphdrawing.org/xmlns http://graphml.graphdrawing.org/xmlns/1.0/graphml.xsd\"><key id=\"d0\" for=\"edge\" attr.name=\"weight\" attr.type=\"double\"/>\n",
      "<graph edgedefault=\"undirected\"><node id=\"2161\"/>\n",
      "<node id=\"2268\"/>\n",
      "<node id=\"443\"/>\n",
      "<node id=\"1564\"/>\n",
      "<node id=\"2598\"/>\n",
      "<node id=\"2594\"/>\n",
      "<node id=\"1125\"/>\n",
      "<node id=\"552\"/>\n"
     ]
    }
   ],
   "source": [
    "with open(\"./Results/Example_run/base_network.graphml\") as file:\n",
    "    # print(file.read()[0:498])\n",
    "    print(file.read()[0:498])\n"
   ]
  },
  {
   "cell_type": "markdown",
   "id": "40dbac6e",
   "metadata": {},
   "source": [
    "# Selecting more tools\n",
    "In the same way you can select other tools. Just switch \"False\" in the recipe to \"True\" for that tool! \n",
    "Each tool has its own set of inputs that it requires of course, these will be clear from the documentation. For now: just ask me :)"
   ]
  },
  {
   "cell_type": "markdown",
   "id": "6c96a19e",
   "metadata": {},
   "source": [
    "# Adding a new tool\n",
    "It is very easy to add your own tools to the mix! Here follows a step-by-step for a very simple example\n",
    "\n",
    "This is the tool we want to add: it prints the fragment masses for all fragments from the mgf"
   ]
  },
  {
   "cell_type": "code",
   "execution_count": 102,
   "id": "f813ac60",
   "metadata": {},
   "outputs": [],
   "source": [
    "def massprinter(mgf: str) -> None:\n",
    "    with open(mgf) as file:\n",
    "        for line in file.readlines():\n",
    "            # print(line)\n",
    "            if \"PEPMASS\" in line:\n",
    "                print(line)"
   ]
  },
  {
   "cell_type": "code",
   "execution_count": 103,
   "id": "0fb24850",
   "metadata": {},
   "outputs": [
    {
     "name": "stdout",
     "output_type": "stream",
     "text": [
      "PEPMASS=183.057\n",
      "\n",
      "PEPMASS=208.146\n",
      "\n",
      "PEPMASS=370.073\n",
      "\n",
      "PEPMASS=231.075\n",
      "\n",
      "PEPMASS=246.044\n",
      "\n",
      "PEPMASS=282.02\n",
      "\n",
      "PEPMASS=292.049\n",
      "\n",
      "PEPMASS=211.065\n",
      "\n",
      "PEPMASS=231.01\n",
      "\n",
      "PEPMASS=309.025\n",
      "\n",
      "PEPMASS=273.057\n",
      "\n",
      "PEPMASS=357.026\n",
      "\n",
      "PEPMASS=458.975\n",
      "\n",
      "PEPMASS=491.005\n",
      "\n",
      "PEPMASS=472.994\n",
      "\n",
      "PEPMASS=526.981\n",
      "\n",
      "PEPMASS=378.967\n",
      "\n",
      "PEPMASS=508.971\n",
      "\n",
      "PEPMASS=458.975\n",
      "\n",
      "PEPMASS=487.029\n",
      "\n",
      "PEPMASS=491.005\n",
      "\n",
      "PEPMASS=526.981\n",
      "\n",
      "PEPMASS=537.956\n",
      "\n",
      "PEPMASS=508.971\n",
      "\n",
      "PEPMASS=182.005\n",
      "\n",
      "PEPMASS=487.029\n",
      "\n",
      "PEPMASS=201.1\n",
      "\n",
      "PEPMASS=537.956\n",
      "\n",
      "PEPMASS=228.039\n",
      "\n",
      "PEPMASS=384.975\n",
      "\n",
      "PEPMASS=269.081\n",
      "\n",
      "PEPMASS=254.045\n",
      "\n",
      "PEPMASS=434.931\n",
      "\n",
      "PEPMASS=470.908\n",
      "\n",
      "PEPMASS=681.016\n",
      "\n",
      "PEPMASS=235.109\n",
      "\n",
      "PEPMASS=716.992\n",
      "\n",
      "PEPMASS=479.964\n",
      "\n",
      "PEPMASS=329.107\n",
      "\n",
      "PEPMASS=365.083\n",
      "\n",
      "PEPMASS=367.203\n",
      "\n",
      "PEPMASS=247.032\n",
      "\n",
      "PEPMASS=322.106\n",
      "\n",
      "PEPMASS=397.213\n",
      "\n",
      "PEPMASS=462.944\n",
      "\n",
      "PEPMASS=341.026\n",
      "\n",
      "PEPMASS=505.11\n",
      "\n",
      "PEPMASS=367.203\n",
      "\n",
      "PEPMASS=541.087\n",
      "\n",
      "PEPMASS=300.057\n",
      "\n",
      "PEPMASS=551.116\n",
      "\n",
      "PEPMASS=917.49\n",
      "\n",
      "PEPMASS=351.208\n",
      "\n",
      "PEPMASS=943.506\n",
      "\n",
      "PEPMASS=387.184\n",
      "\n",
      "PEPMASS=462.944\n",
      "\n",
      "PEPMASS=919.506\n",
      "\n",
      "PEPMASS=505.11\n",
      "\n",
      "PEPMASS=493.184\n",
      "\n",
      "PEPMASS=541.087\n",
      "\n",
      "PEPMASS=912.512\n",
      "\n",
      "PEPMASS=897.501\n",
      "\n",
      "PEPMASS=943.506\n",
      "\n",
      "PEPMASS=219.035\n",
      "\n",
      "PEPMASS=255.011\n",
      "\n",
      "PEPMASS=341.039\n",
      "\n",
      "PEPMASS=493.184\n",
      "\n",
      "PEPMASS=529.16\n",
      "\n",
      "PEPMASS=248.002\n",
      "\n",
      "PEPMASS=384.975\n",
      "\n",
      "PEPMASS=394.975\n",
      "\n",
      "PEPMASS=430.952\n",
      "\n",
      "PEPMASS=434.931\n",
      "\n",
      "PEPMASS=681.016\n",
      "\n",
      "PEPMASS=716.992\n",
      "\n",
      "PEPMASS=342.024\n",
      "\n"
     ]
    }
   ],
   "source": [
    "massprinter(\"pesticides.mgf\")"
   ]
  },
  {
   "cell_type": "markdown",
   "id": "33f8c7d8",
   "metadata": {},
   "source": [
    "Now we have to add this in three places: \n",
    "1) add as option to the workflow:\n",
    "\n",
    "    on top of class definition:\n",
    "     available_tools: list[str] = [\"mzmine\",\"ms2lda\",\"sirius\",\"toxtree\",\"classyfire\", \"matchms\",\"massprinter\"]\n",
    "\n",
    "    in run_tool: \n",
    "   "
   ]
  },
  {
   "cell_type": "code",
   "execution_count": 104,
   "id": "e60a3ae4",
   "metadata": {},
   "outputs": [
    {
     "ename": "SyntaxError",
     "evalue": "invalid syntax (822837337.py, line 1)",
     "output_type": "error",
     "traceback": [
      "  \u001b[36mCell\u001b[39m\u001b[36m \u001b[39m\u001b[32mIn[104]\u001b[39m\u001b[32m, line 1\u001b[39m\n\u001b[31m    \u001b[39m\u001b[31mcase \"massprinter\":\u001b[39m\n         ^\n\u001b[31mSyntaxError\u001b[39m\u001b[31m:\u001b[39m invalid syntax\n"
     ]
    }
   ],
   "source": [
    "case \"massprinter\":\n",
    "        input_mgf = self.settings.paths.get(\"input_mgf\")\n",
    "        massprinter(input_mgf)"
   ]
  },
  {
   "cell_type": "markdown",
   "id": "080b3b63",
   "metadata": {},
   "source": [
    "2) to the recipe:\n",
    " "
   ]
  },
  {
   "cell_type": "code",
   "execution_count": 105,
   "id": "a6745c90",
   "metadata": {},
   "outputs": [
    {
     "ename": "SyntaxError",
     "evalue": "'{' was never closed (2024433786.py, line 1)",
     "output_type": "error",
     "traceback": [
      "  \u001b[36mCell\u001b[39m\u001b[36m \u001b[39m\u001b[32mIn[105]\u001b[39m\u001b[32m, line 1\u001b[39m\n\u001b[31m    \u001b[39m\u001b[31m\"run_tools\":{\u001b[39m\n                ^\n\u001b[31mSyntaxError\u001b[39m\u001b[31m:\u001b[39m '{' was never closed\n"
     ]
    }
   ],
   "source": [
    "   \"run_tools\":{\n",
    "    \"sirius\": \"False\",\n",
    "    \"toxtree\": \"False\",\n",
    "    \"classyfire\": \"False\",\n",
    "    \"ms2lda\": \"False\",\n",
    "    \"mzmine\": \"False\",\n",
    "    \"matchms\": \"True\",\n",
    "    \"massprinter\":\"True\""
   ]
  },
  {
   "cell_type": "markdown",
   "id": "92355cfb",
   "metadata": {},
   "source": [
    "install in editable mode:\n"
   ]
  },
  {
   "cell_type": "code",
   "execution_count": 1,
   "id": "e39bc130",
   "metadata": {},
   "outputs": [
    {
     "ename": "SyntaxError",
     "evalue": "invalid syntax (1436030929.py, line 1)",
     "output_type": "error",
     "traceback": [
      "  \u001b[36mCell\u001b[39m\u001b[36m \u001b[39m\u001b[32mIn[1]\u001b[39m\u001b[32m, line 1\u001b[39m\n\u001b[31m    \u001b[39m\u001b[31m$ pip uninstall metabomix\u001b[39m\n    ^\n\u001b[31mSyntaxError\u001b[39m\u001b[31m:\u001b[39m invalid syntax\n"
     ]
    }
   ],
   "source": [
    "$ pip uninstall metabomix \n",
    "$ cd metabomix\n",
    "\n",
    "$ pip install -e . "
   ]
  },
  {
   "cell_type": "markdown",
   "id": "3433bf37",
   "metadata": {},
   "source": [
    "Now restart the kernel to load this new version of the package and then run a mix again:"
   ]
  },
  {
   "cell_type": "code",
   "execution_count": 1,
   "id": "1b802d9b",
   "metadata": {},
   "outputs": [],
   "source": [
    "from metabomix import MetaboMix\n",
    "settings_path: str = \"recipe.json\""
   ]
  },
  {
   "cell_type": "code",
   "execution_count": 6,
   "id": "a2fde760",
   "metadata": {},
   "outputs": [
    {
     "ename": "Settingserror",
     "evalue": "all of ['test'] required to run massprinter, but one is missing in paths settings",
     "output_type": "error",
     "traceback": [
      "\u001b[31m---------------------------------------------------------------------------\u001b[39m",
      "\u001b[31mSettingserror\u001b[39m                             Traceback (most recent call last)",
      "\u001b[36mCell\u001b[39m\u001b[36m \u001b[39m\u001b[32mIn[6]\u001b[39m\u001b[32m, line 1\u001b[39m\n\u001b[32m----> \u001b[39m\u001b[32m1\u001b[39m example_mix = \u001b[43mMetaboMix\u001b[49m\u001b[43m(\u001b[49m\u001b[43msettings_path\u001b[49m\u001b[43m)\u001b[49m\n\u001b[32m      2\u001b[39m example_mix.run_all()\n",
      "\u001b[36mFile \u001b[39m\u001b[32m/lustre/BIF/nobackup/hendr218/metabomix_test/metabomix/src/metabomix/mix.py:63\u001b[39m, in \u001b[36mMetaboMix.__init__\u001b[39m\u001b[34m(self, settings_json)\u001b[39m\n\u001b[32m     62\u001b[39m \u001b[38;5;28;01mdef\u001b[39;00m\u001b[38;5;250m \u001b[39m\u001b[34m__init__\u001b[39m(\u001b[38;5;28mself\u001b[39m,settings_json: \u001b[38;5;28mstr\u001b[39m | \u001b[38;5;28mdict\u001b[39m) -> \u001b[38;5;28;01mNone\u001b[39;00m:\n\u001b[32m---> \u001b[39m\u001b[32m63\u001b[39m     \u001b[38;5;28mself\u001b[39m.settings: RecipeHolder = \u001b[43mRecipeHolder\u001b[49m\u001b[43m(\u001b[49m\u001b[43msettings_json\u001b[49m\u001b[43m,\u001b[49m\u001b[43mavailable_tools\u001b[49m\u001b[43m=\u001b[49m\u001b[43mMetaboMix\u001b[49m\u001b[43m.\u001b[49m\u001b[43mavailable_tools\u001b[49m\u001b[43m,\u001b[49m\u001b[43mavailable_integrations\u001b[49m\u001b[43m=\u001b[49m\u001b[43mMetaboMix\u001b[49m\u001b[43m.\u001b[49m\u001b[43mavailable_integrations\u001b[49m\u001b[43m)\u001b[49m\n\u001b[32m     64\u001b[39m     \u001b[38;5;28mself\u001b[39m.name = \u001b[38;5;28mself\u001b[39m.settings.name\n\u001b[32m     65\u001b[39m     \u001b[38;5;28mself\u001b[39m.output_folder = \u001b[38;5;28mself\u001b[39m.settings.output_folder\n",
      "\u001b[36mFile \u001b[39m\u001b[32m/lustre/BIF/nobackup/hendr218/metabomix_test/metabomix/src/metabomix/mix.py:401\u001b[39m, in \u001b[36mRecipeHolder.__init__\u001b[39m\u001b[34m(self, settings_json, available_tools, available_integrations)\u001b[39m\n\u001b[32m    399\u001b[39m \u001b[38;5;66;03m#Let tools set additional settings and then check if all requirements are met\u001b[39;00m\n\u001b[32m    400\u001b[39m \u001b[38;5;28mself\u001b[39m.set_tool_settings(\u001b[38;5;28mset\u001b[39m(\u001b[38;5;28mself\u001b[39m.to_run+\u001b[38;5;28mself\u001b[39m.to_integrate))\n\u001b[32m--> \u001b[39m\u001b[32m401\u001b[39m \u001b[38;5;28;43mself\u001b[39;49m\u001b[43m.\u001b[49m\u001b[43mcheck_tool_requirements\u001b[49m\u001b[43m(\u001b[49m\u001b[43mtools\u001b[49m\u001b[43m=\u001b[49m\u001b[38;5;28;43mself\u001b[39;49m\u001b[43m.\u001b[49m\u001b[43mto_run\u001b[49m\u001b[43m,\u001b[49m\u001b[43mgoal\u001b[49m\u001b[43m=\u001b[49m\u001b[33;43m\"\u001b[39;49m\u001b[33;43mrunning\u001b[39;49m\u001b[33;43m\"\u001b[39;49m\u001b[43m)\u001b[49m\n\u001b[32m    402\u001b[39m \u001b[38;5;28mself\u001b[39m.check_tool_requirements(tools=\u001b[38;5;28mself\u001b[39m.to_integrate,goal=\u001b[33m\"\u001b[39m\u001b[33mintegration\u001b[39m\u001b[33m\"\u001b[39m)\n\u001b[32m    404\u001b[39m \u001b[38;5;28mself\u001b[39m.check_tool_requirements(tools=[\u001b[33m\"\u001b[39m\u001b[33mall_tools\u001b[39m\u001b[33m\"\u001b[39m],goal=\u001b[33m\"\u001b[39m\u001b[33mrunning\u001b[39m\u001b[33m\"\u001b[39m)\n",
      "\u001b[36mFile \u001b[39m\u001b[32m/lustre/BIF/nobackup/hendr218/metabomix_test/metabomix/src/metabomix/mix.py:419\u001b[39m, in \u001b[36mRecipeHolder.check_tool_requirements\u001b[39m\u001b[34m(self, tools, goal)\u001b[39m\n\u001b[32m    417\u001b[39m \u001b[38;5;28;01mfor\u001b[39;00m tool \u001b[38;5;129;01min\u001b[39;00m tools:\n\u001b[32m    418\u001b[39m     requirements = \u001b[38;5;28mself\u001b[39m.get_tool_requirements(tool,goal)\n\u001b[32m--> \u001b[39m\u001b[32m419\u001b[39m     \u001b[38;5;28;43mself\u001b[39;49m\u001b[43m.\u001b[49m\u001b[43mvalidate_tool_requirements\u001b[49m\u001b[43m(\u001b[49m\u001b[43mtool\u001b[49m\u001b[43m,\u001b[49m\u001b[43mrequirements\u001b[49m\u001b[43m)\u001b[49m\n",
      "\u001b[36mFile \u001b[39m\u001b[32m/lustre/BIF/nobackup/hendr218/metabomix_test/metabomix/src/metabomix/mix.py:482\u001b[39m, in \u001b[36mRecipeHolder.validate_tool_requirements\u001b[39m\u001b[34m(self, tool, requirements)\u001b[39m\n\u001b[32m    480\u001b[39m     \u001b[38;5;66;03m# if not validate_dictkeys(self.input[\"paths\"],required_paths):\u001b[39;00m\n\u001b[32m    481\u001b[39m \u001b[38;5;28;01mif\u001b[39;00m \u001b[38;5;129;01mnot\u001b[39;00m validate_dictkeys(\u001b[38;5;28mself\u001b[39m.paths,required_paths):\n\u001b[32m--> \u001b[39m\u001b[32m482\u001b[39m     \u001b[38;5;28;01mraise\u001b[39;00m Settingserror(\u001b[33mf\u001b[39m\u001b[33m\"\u001b[39m\u001b[33mall of \u001b[39m\u001b[38;5;132;01m{\u001b[39;00mrequired_paths\u001b[38;5;132;01m}\u001b[39;00m\u001b[33m required to run \u001b[39m\u001b[38;5;132;01m{\u001b[39;00mtool\u001b[38;5;132;01m}\u001b[39;00m\u001b[33m, but one is missing in paths settings\u001b[39m\u001b[33m\"\u001b[39m)\n\u001b[32m    483\u001b[39m \u001b[38;5;28;01mif\u001b[39;00m \u001b[38;5;129;01mnot\u001b[39;00m validate_dictkeys(\u001b[38;5;28mself\u001b[39m.input.get(tool),required_settings):\n\u001b[32m    484\u001b[39m     \u001b[38;5;28;01mraise\u001b[39;00m Settingserror(\u001b[33mf\u001b[39m\u001b[33m\"\u001b[39m\u001b[33mOne of \u001b[39m\u001b[38;5;132;01m{\u001b[39;00mrequired_settings\u001b[38;5;132;01m}\u001b[39;00m\u001b[33m missing in \u001b[39m\u001b[38;5;132;01m{\u001b[39;00mtool\u001b[38;5;132;01m}\u001b[39;00m\u001b[33m settings\u001b[39m\u001b[33m\"\u001b[39m)\n",
      "\u001b[31mSettingserror\u001b[39m: all of ['test'] required to run massprinter, but one is missing in paths settings"
     ]
    }
   ],
   "source": [
    "example_mix = MetaboMix(settings_path)\n",
    "example_mix.run_all()"
   ]
  },
  {
   "cell_type": "markdown",
   "id": "9a0fb505",
   "metadata": {},
   "source": [
    "But this tools requires an input mgf. The workflow should not run if that's not present. TO state this requirement, add the following to config.json. Also try for yourself what happens if you state a different requirement (that you not provide)\n"
   ]
  },
  {
   "cell_type": "code",
   "execution_count": null,
   "id": "36fbf8ec",
   "metadata": {},
   "outputs": [],
   "source": [
    "\"massprinter\":{\n",
    "        \"running\":{\n",
    "                \"requirements\":{\n",
    "                        \"paths\":[\"input_mgf\"]\n",
    "                        }\n",
    "                }\n",
    "                } "
   ]
  },
  {
   "cell_type": "code",
   "execution_count": null,
   "id": "b81859eb",
   "metadata": {},
   "outputs": [],
   "source": [
    "example_mix = MetaboMix(settings_path)\n",
    "example_mix.run_all()"
   ]
  }
 ],
 "metadata": {
  "kernelspec": {
   "display_name": "metabomix_test_2",
   "language": "python",
   "name": "python3"
  },
  "language_info": {
   "codemirror_mode": {
    "name": "ipython",
    "version": 3
   },
   "file_extension": ".py",
   "mimetype": "text/x-python",
   "name": "python",
   "nbconvert_exporter": "python",
   "pygments_lexer": "ipython3",
   "version": "3.11.11"
  }
 },
 "nbformat": 4,
 "nbformat_minor": 5
}
